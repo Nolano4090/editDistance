{
 "cells": [
  {
   "cell_type": "code",
   "execution_count": 18,
   "id": "14f74e07",
   "metadata": {},
   "outputs": [
    {
     "data": {
      "text/plain": [
       "1"
      ]
     },
     "execution_count": 18,
     "metadata": {},
     "output_type": "execute_result"
    }
   ],
   "source": [
    "import Levenshtein"
   ]
  },
  {
   "cell_type": "code",
   "execution_count": 22,
   "id": "4612bca5",
   "metadata": {},
   "outputs": [],
   "source": [
    "def minDistance(word1, word2):\n",
    "    dp = [[0] * (len(word2) + 1) for _ in range(len(word1)+1)]\n",
    "    for i in range(len(word1) + 1):\n",
    "        dp[i][0] = i\n",
    "    for j in range(len(word2) + 1):\n",
    "        dp[0][j] = j\n",
    "    for i in range(1, len(word1) + 1):\n",
    "        for j in range(1, len(word2) + 1):\n",
    "            if word1[i-1] == word2[j-1]:\n",
    "                dp[i][j] = dp[i-1][j-1]\n",
    "            else:\n",
    "                dp[i][j] = min(dp[i][j-1],dp[i-1][j],dp[i-1][j-1]) + 1\n",
    "    return dp[-1][-1]"
   ]
  },
  {
   "cell_type": "code",
   "execution_count": 27,
   "id": "a680ade3",
   "metadata": {},
   "outputs": [
    {
     "name": "stdout",
     "output_type": "stream",
     "text": [
      "Help on function distance in module Levenshtein:\n",
      "\n",
      "distance(s1, s2, *, weights=(1, 1, 1), processor=None, score_cutoff=None)\n",
      "    Calculates the minimum number of insertions, deletions, and substitutions\n",
      "    required to change one sequence into the other according to Levenshtein with custom\n",
      "    costs for insertion, deletion and substitution\n",
      "    \n",
      "    Parameters\n",
      "    ----------\n",
      "    s1 : Sequence[Hashable]\n",
      "        First string to compare.\n",
      "    s2 : Sequence[Hashable]\n",
      "        Second string to compare.\n",
      "    weights : Tuple[int, int, int] or None, optional\n",
      "        The weights for the three operations in the form\n",
      "        (insertion, deletion, substitution). Default is (1, 1, 1),\n",
      "        which gives all three operations a weight of 1.\n",
      "    processor: callable, optional\n",
      "        Optional callable that is used to preprocess the strings before\n",
      "        comparing them. Default is None, which deactivates this behaviour.\n",
      "    score_cutoff : int, optional\n",
      "        Maximum distance between s1 and s2, that is\n",
      "        considered as a result. If the distance is bigger than score_cutoff,\n",
      "        score_cutoff + 1 is returned instead. Default is None, which deactivates\n",
      "        this behaviour.\n",
      "    \n",
      "    Returns\n",
      "    -------\n",
      "    distance : int\n",
      "        distance between s1 and s2\n",
      "    \n",
      "    Raises\n",
      "    ------\n",
      "    ValueError\n",
      "        If unsupported weights are provided a ValueError is thrown\n",
      "    \n",
      "    Examples\n",
      "    --------\n",
      "    Find the Levenshtein distance between two strings:\n",
      "    \n",
      "    >>> from Levenshtein import distance\n",
      "    >>> distance(\"lewenstein\", \"levenshtein\")\n",
      "    2\n",
      "    \n",
      "    Setting a maximum distance allows the implementation to select\n",
      "    a more efficient implementation:\n",
      "    \n",
      "    >>> distance(\"lewenstein\", \"levenshtein\", score_cutoff=1)\n",
      "    2\n",
      "    \n",
      "    It is possible to select different weights by passing a `weight`\n",
      "    tuple.\n",
      "    \n",
      "    >>> distance(\"lewenstein\", \"levenshtein\", weights=(1,1,2))\n",
      "    3\n",
      "\n"
     ]
    }
   ],
   "source": [
    "help(Levenshtein.distance)\n",
    "# 采用help函数或者github上搜索来找到源码"
   ]
  },
  {
   "cell_type": "code",
   "execution_count": 28,
   "id": "fe6de8c4",
   "metadata": {},
   "outputs": [
    {
     "data": {
      "text/plain": [
       "'E:\\\\Anaconda\\\\lib\\\\site-packages\\\\Levenshtein\\\\__init__.py'"
      ]
     },
     "execution_count": 28,
     "metadata": {},
     "output_type": "execute_result"
    }
   ],
   "source": [
    "Levenshtein.__file__"
   ]
  },
  {
   "cell_type": "code",
   "execution_count": null,
   "id": "ffc149af",
   "metadata": {},
   "outputs": [],
   "source": [
    "#ifdef RAPIDFUZZ_X64\n",
    "    if (weights.insert_cost == 1 && weights.delete_cost == 1 && weights.replace_cost == 1) {\n",
    "        if (CpuInfo::supports(CPU_FEATURE_AVX2))\n",
    "            return Avx2::LevenshteinDistanceInit(self, kwargs, str_count, str);\n",
    "\n",
    "        if (CpuInfo::supports(CPU_FEATURE_SSE2))\n",
    "            return Sse2::LevenshteinDistanceInit(self, kwargs, str_count, str);\n",
    "    }\n",
    "#endif\n",
    "\n",
    "    return distance_init<rapidfuzz::CachedLevenshtein, int64_t>(self, str_count, str, weights);\n",
    "}\n",
    "static inline bool LevenshteinMultiStringSupport(const RF_Kwargs* kwargs)\n",
    "{\n",
    "    rapidfuzz::LevenshteinWeightTable weights =\n",
    "        *static_cast<rapidfuzz::LevenshteinWeightTable*>(kwargs->context);\n",
    "\n",
    "#ifdef RAPIDFUZZ_X64\n",
    "    if (weights.insert_cost == 1 && weights.delete_cost == 1 && weights.replace_cost == 1)\n",
    "        return CpuInfo::supports(CPU_FEATURE_AVX2) || CpuInfo::supports(CPU_FEATURE_SSE2);\n",
    "#else\n",
    "    (void)weights;\n",
    "#endif\n",
    "    return false;"
   ]
  },
  {
   "cell_type": "markdown",
   "id": "55059eac",
   "metadata": {},
   "source": [
    "https://github.com/animalize/cpython  \n",
    "针对CPU指令集做了代码优化，支持AVX2,SSE2指令集的CPU速度要快于SIMD"
   ]
  },
  {
   "cell_type": "code",
   "execution_count": 31,
   "id": "904a881f",
   "metadata": {},
   "outputs": [
    {
     "name": "stdout",
     "output_type": "stream",
     "text": [
      "编写的动态规划代码运行时间为：4.754086971282959\n",
      "结果为9\n",
      "调用rapidfuzz库中的代码运行时间为: 0.0009970664978027344\n",
      "结果为9\n"
     ]
    }
   ],
   "source": [
    "# 速度演示：\n",
    "import time\n",
    "dis = 0\n",
    "text1 = \"University time is the best in our life. You can leanr what you want to learn, eat what you like to eat, play what you like to play. But don't froget that here is where you can buid your power and where you can impruoe your ability. The last thing I want to say is that algorithme design and analysis is an important course.\"\n",
    "text2 = \"University time is the best in our life. You can leanr what you want to learn, eat what you like to eat, play what you like to play. But don't froget that here is where you can buid your power and where you can impruoe your ability. The last thing He wants to say it that algorithm designe and analysise ia an importante course.\"\n",
    "start_time_1 = time.time()\n",
    "for i in range(100):\n",
    "    dis = minDistance(text1,text2)\n",
    "end_time_1 = time.time()\n",
    "\n",
    "print(\"编写的动态规划代码运行时间为：\" + str(end_time_1 - start_time_1))\n",
    "print(\"结果为\" + str(dis))\n",
    "\n",
    "start_time_2 = time.time()\n",
    "for i in range(100):\n",
    "    dis = Levenshtein.distance(text1,text2)\n",
    "end_time_2 = time.time()\n",
    "\n",
    "print(\"调用rapidfuzz库中的代码运行时间为: \" + str(end_time_2 - start_time_2))\n",
    "print(\"结果为\" + str(dis))"
   ]
  },
  {
   "cell_type": "code",
   "execution_count": null,
   "id": "041abebc",
   "metadata": {},
   "outputs": [],
   "source": []
  }
 ],
 "metadata": {
  "kernelspec": {
   "display_name": "Python 3 (ipykernel)",
   "language": "python",
   "name": "python3"
  },
  "language_info": {
   "codemirror_mode": {
    "name": "ipython",
    "version": 3
   },
   "file_extension": ".py",
   "mimetype": "text/x-python",
   "name": "python",
   "nbconvert_exporter": "python",
   "pygments_lexer": "ipython3",
   "version": "3.9.7"
  }
 },
 "nbformat": 4,
 "nbformat_minor": 5
}
